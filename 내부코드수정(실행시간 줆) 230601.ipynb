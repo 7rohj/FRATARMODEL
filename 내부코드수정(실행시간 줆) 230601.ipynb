{
 "cells": [
  {
   "cell_type": "markdown",
   "id": "7bcdd711",
   "metadata": {
    "toc": true
   },
   "source": [
    "<h1>Table of Contents<span class=\"tocSkip\"></span></h1>\n",
    "<div class=\"toc\"><ul class=\"toc-item\"><li><span><a href=\"#판다스-형\" data-toc-modified-id=\"판다스-형-1\"><span class=\"toc-item-num\">1&nbsp;&nbsp;</span>판다스 형</a></span></li><li><span><a href=\"#Numpy-형\" data-toc-modified-id=\"Numpy-형-2\"><span class=\"toc-item-num\">2&nbsp;&nbsp;</span>Numpy 형</a></span></li></ul></div>"
   ]
  },
  {
   "cell_type": "code",
   "execution_count": 18,
   "id": "01c0e6b7",
   "metadata": {},
   "outputs": [
    {
     "name": "stdout",
     "output_type": "stream",
     "text": [
      "실행시간: 0.2540585994720459\n"
     ]
    }
   ],
   "source": [
    "import pandas as pd\n",
    "import time\n",
    "\n",
    "df = pd.read_excel('./500매트릭스.xlsx', index_col=0)\n",
    "df2 = pd.read_csv('./500종점.csv')\n",
    "df3 = pd.read_csv('./500기점.csv')\n",
    "\n",
    "start_time = time.time()\n",
    "\n",
    "wntO = df2['종점'].tolist()\n",
    "wntD = df3['기점'].tolist()\n",
    "\n",
    "df_copy = df.copy()\n",
    "value = df_copy.shape[0]\n",
    "\n",
    "df[value] = pd.Series(wntO) # 시리즈 변환\n",
    "df.loc[value] = pd.Series(wntD) # .loc 는 row\n",
    "\n",
    "df['Ei'] = df[value]/df[value-1] \n",
    "df.loc['Fj'] = df.loc[value]/df.loc[value-1]\n",
    "\n",
    "df = df.fillna(0)\n",
    "apple = []\n",
    "\n",
    "# 유출통행량 보정값\n",
    "\n",
    "for i in range(len(df)-3):\n",
    "    value2 = df.iloc[i,value-1]/sum(df.loc[i] * df.loc['Fj'])\n",
    "    apple.append(value2)\n",
    "\n",
    "df['Li'] = pd.Series(apple)\n",
    "df = df.fillna(0)\n",
    "\n",
    "banana = []\n",
    "\n",
    "# 유입통행량 보정값\n",
    "\n",
    "for i in range(len(df)-3):\n",
    "    value3 = df.loc[value-1,i]/sum(df[i]*df['Ei'])\n",
    "    banana.append(value3)\n",
    "\n",
    "df.loc['Lj'] = pd.Series(banana)\n",
    "df = df.fillna(0)\n",
    "\n",
    "end_time = time.time()\n",
    "execution_time = end_time - start_time\n",
    "\n",
    "print('실행시간:',execution_time)"
   ]
  },
  {
   "cell_type": "markdown",
   "id": "c1fe1936",
   "metadata": {},
   "source": [
    "## 판다스 형"
   ]
  },
  {
   "cell_type": "code",
   "execution_count": 19,
   "id": "bcc2d52d",
   "metadata": {},
   "outputs": [
    {
     "name": "stdout",
     "output_type": "stream",
     "text": [
      "실행시간: 56.050780296325684\n"
     ]
    }
   ],
   "source": [
    "start_time = time.time()\n",
    "\n",
    "result = df_copy.applymap(lambda x: None)\n",
    "value = df_copy.shape[0]\n",
    "\n",
    "i = ''\n",
    "j = ''\n",
    "\n",
    "for i in range(value-1):\n",
    "    for j in range(value-1):\n",
    "        #print(i, ',', j)\n",
    "        result.loc[i,j] = df.loc[i,j]*df.loc[i,'Ei']*df.loc['Fj'][j]*(df.loc[i,'Li'] + df.loc['Lj'][j])/2\n",
    "    \n",
    "end_time = time.time()\n",
    "execution_time = end_time - start_time\n",
    "\n",
    "print('실행시간:',execution_time)"
   ]
  },
  {
   "cell_type": "markdown",
   "id": "0f861978",
   "metadata": {},
   "source": [
    "## Numpy 형"
   ]
  },
  {
   "cell_type": "code",
   "execution_count": 20,
   "id": "663bf237",
   "metadata": {},
   "outputs": [
    {
     "name": "stdout",
     "output_type": "stream",
     "text": [
      "실행시간: 0.5232255458831787\n"
     ]
    }
   ],
   "source": [
    "import numpy as np\n",
    "start_time = time.time()\n",
    "\n",
    "result = df_copy.applymap(lambda x: None)\n",
    "value = df_copy.shape[0]\n",
    "\n",
    "i = ''\n",
    "j = ''\n",
    "# 데이터프레임을 NumPy 배열로 변환\n",
    "df_values = df.values\n",
    "result = np.zeros((value, value))  # 결과를 저장할 NumPy 배열\n",
    "\n",
    "for i in range(value):\n",
    "    for j in range(value):\n",
    "        result[i, j] = df_values[i, j] * df_values[i, value+1] * df_values[value+1, j] * (df_values[i, value+2] + df_values[value+2, j]) / 2\n",
    "end_time = time.time()\n",
    "execution_time = end_time - start_time\n",
    "\n",
    "print('실행시간:',execution_time)"
   ]
  },
  {
   "cell_type": "markdown",
   "id": "249492ac",
   "metadata": {},
   "source": [
    "와.. 실행시간이 50배 이상 줄었다"
   ]
  },
  {
   "cell_type": "code",
   "execution_count": 21,
   "id": "ec1fb3ee",
   "metadata": {},
   "outputs": [
    {
     "data": {
      "text/plain": [
       "array([[1.00000000e+00, 6.00000000e+00, 1.00000000e+00, ...,\n",
       "        1.20200000e+03, 5.54939982e-01, 4.57330622e-01],\n",
       "       [9.00000000e+00, 2.00000000e+00, 7.00000000e+00, ...,\n",
       "        6.62800000e+03, 2.95233853e+00, 4.52084901e-01],\n",
       "       [9.00000000e+00, 3.00000000e+00, 5.00000000e+00, ...,\n",
       "        3.24800000e+03, 1.45259392e+00, 4.37150226e-01],\n",
       "       ...,\n",
       "       [6.40300000e+03, 3.84400000e+03, 3.62700000e+03, ...,\n",
       "        0.00000000e+00, 0.00000000e+00, 0.00000000e+00],\n",
       "       [2.76110392e+00, 1.74410163e+00, 1.68933395e+00, ...,\n",
       "        0.00000000e+00, 0.00000000e+00, 0.00000000e+00],\n",
       "       [4.54119253e-01, 4.54346200e-01, 4.41637929e-01, ...,\n",
       "        0.00000000e+00, 0.00000000e+00, 0.00000000e+00]])"
      ]
     },
     "execution_count": 21,
     "metadata": {},
     "output_type": "execute_result"
    }
   ],
   "source": [
    "df_values"
   ]
  }
 ],
 "metadata": {
  "kernelspec": {
   "display_name": "Python 3",
   "language": "python",
   "name": "python3"
  },
  "language_info": {
   "codemirror_mode": {
    "name": "ipython",
    "version": 3
   },
   "file_extension": ".py",
   "mimetype": "text/x-python",
   "name": "python",
   "nbconvert_exporter": "python",
   "pygments_lexer": "ipython3",
   "version": "3.8.8"
  },
  "toc": {
   "base_numbering": 1,
   "nav_menu": {},
   "number_sections": true,
   "sideBar": true,
   "skip_h1_title": true,
   "title_cell": "Table of Contents",
   "title_sidebar": "Contents",
   "toc_cell": true,
   "toc_position": {},
   "toc_section_display": true,
   "toc_window_display": false
  }
 },
 "nbformat": 4,
 "nbformat_minor": 5
}
